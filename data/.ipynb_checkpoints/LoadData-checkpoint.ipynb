{
 "cells": [
  {
   "cell_type": "code",
   "execution_count": 52,
   "metadata": {
    "collapsed": false
   },
   "outputs": [],
   "source": [
    "import csv\n",
    "import numpy as np\n",
    "\n",
    "methyl = []\n",
    "with open('gene-level-methyl-95inds-mean-MAVANcandidates.txt') as csvfile:\n",
    "    spamreader = csv.reader(csvfile, delimiter=' ', quotechar='|')\n",
    "    for row in spamreader:\n",
    "        methyl.append(np.array(row))\n",
    "methyl = np.array(methyl)\n"
   ]
  },
  {
   "cell_type": "code",
   "execution_count": 54,
   "metadata": {
    "collapsed": false
   },
   "outputs": [
    {
     "data": {
      "text/plain": [
       "(95,)"
      ]
     },
     "execution_count": 54,
     "metadata": {},
     "output_type": "execute_result"
    }
   ],
   "source": [
    "methyl[0,1:].shape"
   ]
  },
  {
   "cell_type": "code",
   "execution_count": 38,
   "metadata": {
    "collapsed": true
   },
   "outputs": [],
   "source": [
    "methyl = []\n",
    "with open('gene-level-methyl-153inds-mean-MAVANcandidates.txt') as csvfile:\n",
    "    spamreader = csv.reader(csvfile, delimiter=' ', quotechar='|')\n",
    "    for row in spamreader:\n",
    "        methyl.append(np.array(row))\n",
    "methyl = np.array(methyl)\n"
   ]
  },
  {
   "cell_type": "code",
   "execution_count": 39,
   "metadata": {
    "collapsed": true
   },
   "outputs": [],
   "source": [
    "missingid = methyl[0,1:]"
   ]
  },
  {
   "cell_type": "code",
   "execution_count": 14,
   "metadata": {
    "collapsed": false
   },
   "outputs": [],
   "source": [
    "methyl_id = methyl[0,1:]\n",
    "methyl_genes = methyl[1:,0]\n",
    "methyl_mean = methyl[1:,1:].astype(\"double\")\n"
   ]
  },
  {
   "cell_type": "code",
   "execution_count": 46,
   "metadata": {
    "collapsed": false
   },
   "outputs": [],
   "source": [
    "i = 0\n",
    "no_missing_indx = []\n",
    "for j in range(missingid.shape[0]):\n",
    "    if missingid[j] == non_missingid[i]:\n",
    "        no_missing_indx.append(j)\n",
    "        if i < 94:\n",
    "            i = i+1\n",
    "        "
   ]
  },
  {
   "cell_type": "code",
   "execution_count": 47,
   "metadata": {
    "collapsed": false
   },
   "outputs": [
    {
     "data": {
      "text/plain": [
       "[0,\n",
       " 2,\n",
       " 3,\n",
       " 4,\n",
       " 7,\n",
       " 9,\n",
       " 11,\n",
       " 14,\n",
       " 15,\n",
       " 16,\n",
       " 19,\n",
       " 20,\n",
       " 22,\n",
       " 23,\n",
       " 24,\n",
       " 25,\n",
       " 26,\n",
       " 27,\n",
       " 28,\n",
       " 29,\n",
       " 32,\n",
       " 34,\n",
       " 35,\n",
       " 36,\n",
       " 37,\n",
       " 38,\n",
       " 39,\n",
       " 43,\n",
       " 45,\n",
       " 48,\n",
       " 49,\n",
       " 52,\n",
       " 53,\n",
       " 55,\n",
       " 60,\n",
       " 61,\n",
       " 62,\n",
       " 63,\n",
       " 64,\n",
       " 67,\n",
       " 68,\n",
       " 69,\n",
       " 73,\n",
       " 74,\n",
       " 77,\n",
       " 80,\n",
       " 82,\n",
       " 86,\n",
       " 87,\n",
       " 92,\n",
       " 93,\n",
       " 95,\n",
       " 96,\n",
       " 97,\n",
       " 98,\n",
       " 99,\n",
       " 100,\n",
       " 101,\n",
       " 102,\n",
       " 103,\n",
       " 104,\n",
       " 105,\n",
       " 106,\n",
       " 107,\n",
       " 108,\n",
       " 109,\n",
       " 111,\n",
       " 112,\n",
       " 115,\n",
       " 117,\n",
       " 118,\n",
       " 119,\n",
       " 120,\n",
       " 121,\n",
       " 122,\n",
       " 123,\n",
       " 126,\n",
       " 128,\n",
       " 129,\n",
       " 130,\n",
       " 132,\n",
       " 133,\n",
       " 135,\n",
       " 139,\n",
       " 140,\n",
       " 141,\n",
       " 142,\n",
       " 143,\n",
       " 144,\n",
       " 145,\n",
       " 146,\n",
       " 147,\n",
       " 149,\n",
       " 150,\n",
       " 151]"
      ]
     },
     "execution_count": 47,
     "metadata": {},
     "output_type": "execute_result"
    }
   ],
   "source": [
    "no_missing_indx"
   ]
  },
  {
   "cell_type": "code",
   "execution_count": 14,
   "metadata": {
    "collapsed": false
   },
   "outputs": [],
   "source": [
    "internalizing = []\n",
    "with open('internalizing-nomissing-zvals-ts.txt') as csvfile:\n",
    "    spamreader = csv.reader(csvfile, delimiter=' ', quotechar='|')\n",
    "    for row in spamreader:\n",
    "        internalizing.append(np.array(row))\n",
    "internalizing = np.array(internalizing)\n",
    "internalizing_id = internalizing[1:,0]\n",
    "internalizing_z = internalizing[1:,5:].astype(\"double\")\n",
    "internalizing_raw = internalizing[1:,1:5].astype(\"double\")"
   ]
  },
  {
   "cell_type": "code",
   "execution_count": 7,
   "metadata": {
    "collapsed": false,
    "scrolled": true
   },
   "outputs": [],
   "source": [
    "externalizing = []\n",
    "with open('externalizing-nomissing-zvals-ts.txt') as csvfile:\n",
    "    spamreader = csv.reader(csvfile, delimiter=' ', quotechar='|')\n",
    "    for row in spamreader:\n",
    "        externalizing.append(np.array(row))\n",
    "externalizing = np.array(externalizing)\n",
    "externalizing_id = externalizing[1:,0]\n",
    "externalizing_z = externalizing[1:,5:].astype(\"double\")\n",
    "externalizing_raw = externalizing[1:,1:5].astype(\"double\")\n",
    "T = np.zeros(())"
   ]
  },
  {
   "cell_type": "code",
   "execution_count": 16,
   "metadata": {
    "collapsed": false
   },
   "outputs": [
    {
     "data": {
      "text/plain": [
       "(16, 95)"
      ]
     },
     "execution_count": 16,
     "metadata": {},
     "output_type": "execute_result"
    }
   ],
   "source": [
    "data = np.array([[externalizing_z,[0,1,2,3]],[methyl_mean,methyl_genes]])\n",
    "data[1,0].shape"
   ]
  },
  {
   "cell_type": "code",
   "execution_count": 44,
   "metadata": {
    "collapsed": true
   },
   "outputs": [],
   "source": [
    "def Px_z1(data, i, clustering, cluster_assn):\n",
    "    # NOTE: Set the constants according to data\n",
    "    # data[0,0]: X - N x k numpy array\n",
    "    X = data[0,0]\n",
    "    n,k = X.shape\n",
    "    var1 = 1\n",
    "    var2 = 2\n",
    "    means = [np.mean(X[list(cluster)],axis=0) for cluster in clustering]\n",
    "    means.append(np.zeros(k))\n",
    "    stds = [np.std(X[list(cluster)],axis=0) + var1 for cluster in clustering]\n",
    "    std = np.zeros(k)+ var2\n",
    "    stds.append(std)\n",
    "    return np.array([stats.multivariate_normal.pdf(data[i], means[j], stds[j]) for j in range(len(means))])"
   ]
  },
  {
   "cell_type": "code",
   "execution_count": 46,
   "metadata": {
    "collapsed": true
   },
   "outputs": [],
   "source": [
    "import scipy.stats as stats\n"
   ]
  },
  {
   "cell_type": "code",
   "execution_count": 79,
   "metadata": {
    "collapsed": false
   },
   "outputs": [
    {
     "data": {
      "text/plain": [
       "array([[ 13.50222539,   4.83520773],\n",
       "       [  4.83520773,   1.87532364]])"
      ]
     },
     "execution_count": 79,
     "metadata": {},
     "output_type": "execute_result"
    }
   ],
   "source": [
    "stats.invwishart.rvs(2,[[1,0],[0,1]])"
   ]
  },
  {
   "cell_type": "code",
   "execution_count": 96,
   "metadata": {
    "collapsed": false
   },
   "outputs": [
    {
     "data": {
      "text/plain": [
       "array([ 0.80807957,  0.09679483,  0.59761989,  0.8003007 ,  0.3553617 ,\n",
       "        0.54132511,  0.37433243,  0.85296898,  0.68361735,  0.78202571,\n",
       "        0.42126941,  0.54620329,  0.53923884,  0.23459691,  0.43009501,\n",
       "        0.91963344,  0.31395541,  0.31109694,  0.2012377 ,  0.81467036])"
      ]
     },
     "execution_count": 96,
     "metadata": {},
     "output_type": "execute_result"
    }
   ],
   "source": [
    "x = np.linspace(0,1,20)\n",
    "import numpy.random as random\n",
    "random.rand(20)"
   ]
  },
  {
   "cell_type": "code",
   "execution_count": 98,
   "metadata": {
    "collapsed": false
   },
   "outputs": [],
   "source": [
    "import matplotlib.pyplot as plt\n",
    "import numpy as np\n",
    "x = np.linspace(0,1,1000)\n",
    "y = np.power(x, 2) # Effectively y = x**2\n",
    "e = random.rand(1000)\n",
    "\n",
    "plt.errorbar(x, y, e, linestyle='None', marker='^',)\n",
    "\n",
    "plt.show()"
   ]
  },
  {
   "cell_type": "code",
   "execution_count": 1,
   "metadata": {
    "collapsed": true
   },
   "outputs": [],
   "source": [
    "prior1 = {\n",
    "\"m0\" : 0.,\n",
    "\"k0\": 1,\n",
    "\"v0\": 1,\n",
    "\"s0_scale\": 1\n",
    "}"
   ]
  },
  {
   "cell_type": "code",
   "execution_count": 3,
   "metadata": {
    "collapsed": false
   },
   "outputs": [
    {
     "data": {
      "text/plain": [
       "1"
      ]
     },
     "execution_count": 3,
     "metadata": {},
     "output_type": "execute_result"
    }
   ],
   "source": [
    "prior1[\"k0\"]"
   ]
  },
  {
   "cell_type": "code",
   "execution_count": 27,
   "metadata": {
    "collapsed": true
   },
   "outputs": [],
   "source": [
    "import csv\n",
    "import numpy as np"
   ]
  },
  {
   "cell_type": "code",
   "execution_count": 48,
   "metadata": {
    "collapsed": true
   },
   "outputs": [],
   "source": [
    "probes = []\n",
    "with open('body-probes-153inds-MAVAN.txt') as csvfile:\n",
    "    spamreader = csv.reader(csvfile, delimiter=' ', quotechar='|')\n",
    "    for row in spamreader:\n",
    "        probes.append(np.array(row))\n",
    "probes = np.array(probes)\n"
   ]
  },
  {
   "cell_type": "code",
   "execution_count": 51,
   "metadata": {
    "collapsed": false
   },
   "outputs": [
    {
     "data": {
      "text/plain": [
       "(95, 115)"
      ]
     },
     "execution_count": 51,
     "metadata": {},
     "output_type": "execute_result"
    }
   ],
   "source": [
    "probes[no_missing_indx].shape"
   ]
  },
  {
   "cell_type": "code",
   "execution_count": 5,
   "metadata": {
    "collapsed": true
   },
   "outputs": [],
   "source": [
    "probes = []\n",
    "with open('body-probes-153inds-MAVAN.txt') as csvfile:\n",
    "    spamreader = csv.reader(csvfile, delimiter=' ', quotechar='|')\n",
    "    for row in spamreader:\n",
    "        probes.append(np.array(row))\n",
    "probes = np.array(probes)\n"
   ]
  },
  {
   "cell_type": "code",
   "execution_count": 6,
   "metadata": {
    "collapsed": false
   },
   "outputs": [
    {
     "data": {
      "text/plain": [
       "(154, 9)"
      ]
     },
     "execution_count": 6,
     "metadata": {},
     "output_type": "execute_result"
    }
   ],
   "source": [
    "probes.shape"
   ]
  },
  {
   "cell_type": "code",
   "execution_count": 24,
   "metadata": {
    "collapsed": false
   },
   "outputs": [],
   "source": [
    "a = set(probes[1:,0])\n",
    "a = pd.read_table('body-probes-153inds-MAVAN.txt')"
   ]
  },
  {
   "cell_type": "code",
   "execution_count": 22,
   "metadata": {
    "collapsed": false
   },
   "outputs": [],
   "source": [
    "import pandas as pd\n"
   ]
  },
  {
   "cell_type": "code",
   "execution_count": 15,
   "metadata": {
    "collapsed": true
   },
   "outputs": [],
   "source": [
    "b = set(internalizing_id)"
   ]
  },
  {
   "cell_type": "code",
   "execution_count": 17,
   "metadata": {
    "collapsed": false
   },
   "outputs": [],
   "source": [
    "c = a&b"
   ]
  },
  {
   "cell_type": "code",
   "execution_count": 21,
   "metadata": {
    "collapsed": false
   },
   "outputs": [
    {
     "data": {
      "text/plain": [
       "False"
      ]
     },
     "execution_count": 21,
     "metadata": {},
     "output_type": "execute_result"
    }
   ],
   "source": [
    "i = 0\n",
    "\n",
    "for j in len():\n",
    "    if a[j] == b[i]:\n",
    "        \n",
    "        i = i+1"
   ]
  },
  {
   "cell_type": "code",
   "execution_count": null,
   "metadata": {
    "collapsed": false
   },
   "outputs": [],
   "source": [
    "\n",
    "\n"
   ]
  },
  {
   "cell_type": "code",
   "execution_count": null,
   "metadata": {
    "collapsed": true
   },
   "outputs": [],
   "source": []
  }
 ],
 "metadata": {
  "kernelspec": {
   "display_name": "Python 2",
   "language": "python",
   "name": "python2"
  },
  "language_info": {
   "codemirror_mode": {
    "name": "ipython",
    "version": 2
   },
   "file_extension": ".py",
   "mimetype": "text/x-python",
   "name": "python",
   "nbconvert_exporter": "python",
   "pygments_lexer": "ipython2",
   "version": "2.7.11"
  }
 },
 "nbformat": 4,
 "nbformat_minor": 0
}
